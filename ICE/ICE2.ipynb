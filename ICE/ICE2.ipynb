{
 "cells": [
  {
   "cell_type": "code",
   "execution_count": 1,
   "id": "4b9c7452",
   "metadata": {},
   "outputs": [
    {
     "name": "stdout",
     "output_type": "stream",
     "text": [
      "The one-dimensional array looks like this:\n",
      " [66 92 98 17 83 57 86 97 96 47]\n",
      "The two-dimensional array looks like this:\n",
      " [[9 0 0 9]\n",
      " [3 4 0 0]\n",
      " [4 1 7 3]]\n"
     ]
    }
   ],
   "source": [
    "import numpy as np # Don't forget to import numpy\n",
    "\n",
    "np.random.seed(123)  # We are generating random number here, so it will be different every time.\n",
    "                        # Setting a seed = 123 help us generate the exact same numbers\n",
    "                         # next time when we call 123 for reproducibility purposes.\n",
    "                            # You can use any number as a seed.\n",
    "m1 = np.random.randint(0, 100, size = 10) # Create a array of 10 random integers in the interval [0, 100)\n",
    "m2 = np.random.randint(10, size=(3, 4)) # Create a 3 x 4 array of in the interval [0, 10)\n",
    "print(\"The one-dimensional array looks like this:\\n\", m1)\n",
    "print(\"The two-dimensional array looks like this:\\n\", m2)"
   ]
  },
  {
   "cell_type": "code",
   "execution_count": 2,
   "id": "6fa7b05f",
   "metadata": {},
   "outputs": [
    {
     "data": {
      "text/plain": [
       "66"
      ]
     },
     "execution_count": 2,
     "metadata": {},
     "output_type": "execute_result"
    }
   ],
   "source": [
    "m1[0]"
   ]
  },
  {
   "cell_type": "code",
   "execution_count": 3,
   "id": "fce0048a",
   "metadata": {},
   "outputs": [
    {
     "data": {
      "text/plain": [
       "96"
      ]
     },
     "execution_count": 3,
     "metadata": {},
     "output_type": "execute_result"
    }
   ],
   "source": [
    "# You can count from the end\n",
    "m1[-2]"
   ]
  },
  {
   "cell_type": "code",
   "execution_count": 4,
   "id": "d0aa2ff2",
   "metadata": {},
   "outputs": [
    {
     "data": {
      "text/plain": [
       "9"
      ]
     },
     "execution_count": 4,
     "metadata": {},
     "output_type": "execute_result"
    }
   ],
   "source": [
    "# Same rules apply for multi-dimensional array\n",
    "m2[0, -1] # First row, last column"
   ]
  },
  {
   "cell_type": "code",
   "execution_count": 5,
   "id": "07d37b31",
   "metadata": {},
   "outputs": [
    {
     "data": {
      "text/plain": [
       "array([92, 17, 57])"
      ]
     },
     "execution_count": 5,
     "metadata": {},
     "output_type": "execute_result"
    }
   ],
   "source": [
    "m1[1:7:2] # accessing the second, forth, and sixth element"
   ]
  },
  {
   "cell_type": "code",
   "execution_count": 6,
   "id": "ada15a9d",
   "metadata": {},
   "outputs": [
    {
     "data": {
      "text/plain": [
       "array([66, 92, 98, 17, 83])"
      ]
     },
     "execution_count": 6,
     "metadata": {},
     "output_type": "execute_result"
    }
   ],
   "source": [
    "m1[:5] # accessing the first five elements\n"
   ]
  },
  {
   "cell_type": "code",
   "execution_count": 7,
   "id": "b6573311",
   "metadata": {},
   "outputs": [
    {
     "data": {
      "text/plain": [
       "array([57, 86, 97, 96, 47])"
      ]
     },
     "execution_count": 7,
     "metadata": {},
     "output_type": "execute_result"
    }
   ],
   "source": [
    "m1[5:] # accessing elements after the sixth element"
   ]
  },
  {
   "cell_type": "code",
   "execution_count": 8,
   "id": "1f7accb0",
   "metadata": {},
   "outputs": [
    {
     "data": {
      "text/plain": [
       "array([66, 98, 83, 86, 96])"
      ]
     },
     "execution_count": 8,
     "metadata": {},
     "output_type": "execute_result"
    }
   ],
   "source": [
    "m1[::2] # every other elements"
   ]
  },
  {
   "cell_type": "code",
   "execution_count": 9,
   "id": "6ac91bfe",
   "metadata": {},
   "outputs": [
    {
     "data": {
      "text/plain": [
       "array([47, 96, 97, 86, 57, 83, 17, 98, 92, 66])"
      ]
     },
     "execution_count": 9,
     "metadata": {},
     "output_type": "execute_result"
    }
   ],
   "source": [
    "m1[::-1] # all elements, reversed"
   ]
  },
  {
   "cell_type": "code",
   "execution_count": 10,
   "id": "b2930cfd",
   "metadata": {},
   "outputs": [
    {
     "data": {
      "text/plain": [
       "array([[9, 0, 0],\n",
       "       [3, 4, 0]])"
      ]
     },
     "execution_count": 10,
     "metadata": {},
     "output_type": "execute_result"
    }
   ],
   "source": [
    "m2[:2, :3] # first two rows, first three columns"
   ]
  },
  {
   "cell_type": "code",
   "execution_count": 11,
   "id": "af4e7872",
   "metadata": {},
   "outputs": [
    {
     "data": {
      "text/plain": [
       "array([9, 3, 4])"
      ]
     },
     "execution_count": 11,
     "metadata": {},
     "output_type": "execute_result"
    }
   ],
   "source": [
    "m2[:, 0] # first column"
   ]
  },
  {
   "cell_type": "code",
   "execution_count": 12,
   "id": "2786ce54",
   "metadata": {},
   "outputs": [
    {
     "data": {
      "text/plain": [
       "array([9, 0, 0, 9])"
      ]
     },
     "execution_count": 12,
     "metadata": {},
     "output_type": "execute_result"
    }
   ],
   "source": [
    "m2[0, :]  # first row\n",
    "# This could be written in a compact format\n",
    "m2[0]"
   ]
  },
  {
   "cell_type": "code",
   "execution_count": 13,
   "id": "54a0759e",
   "metadata": {},
   "outputs": [
    {
     "data": {
      "text/plain": [
       "array([9, 9, 3, 4, 4, 7, 3])"
      ]
     },
     "execution_count": 13,
     "metadata": {},
     "output_type": "execute_result"
    }
   ],
   "source": [
    "m2[m2 > 1] # you can build masking to an array\n",
    "           # this accesses all the elements greater than 1"
   ]
  },
  {
   "cell_type": "code",
   "execution_count": 14,
   "id": "0e49685d",
   "metadata": {},
   "outputs": [
    {
     "data": {
      "text/plain": [
       "array([[1, 2, 3],\n",
       "       [4, 5, 6],\n",
       "       [1, 2, 3],\n",
       "       [4, 5, 6]])"
      ]
     },
     "execution_count": 14,
     "metadata": {},
     "output_type": "execute_result"
    }
   ],
   "source": [
    "grid = np.array([[1, 2, 3],\n",
    "                 [4, 5, 6]])\n",
    "np.concatenate([grid, grid])"
   ]
  },
  {
   "cell_type": "code",
   "execution_count": 15,
   "id": "23203f03",
   "metadata": {},
   "outputs": [
    {
     "data": {
      "text/plain": [
       "array([[1, 2, 3],\n",
       "       [4, 5, 6],\n",
       "       [2, 3, 4],\n",
       "       [5, 6, 7]])"
      ]
     },
     "execution_count": 15,
     "metadata": {},
     "output_type": "execute_result"
    }
   ],
   "source": [
    "np.vstack([grid, grid+1]) # grid + 1 = every element in grid increments 1"
   ]
  },
  {
   "cell_type": "code",
   "execution_count": 16,
   "id": "96dd8d52",
   "metadata": {},
   "outputs": [
    {
     "ename": "NameError",
     "evalue": "name 'pd' is not defined",
     "output_type": "error",
     "traceback": [
      "\u001b[0;31m---------------------------------------------------------------------------\u001b[0m",
      "\u001b[0;31mNameError\u001b[0m                                 Traceback (most recent call last)",
      "\u001b[0;32m<ipython-input-16-b0d2a3dd8730>\u001b[0m in \u001b[0;36m<module>\u001b[0;34m\u001b[0m\n\u001b[0;32m----> 1\u001b[0;31m \u001b[0mICEdata\u001b[0m \u001b[0;34m=\u001b[0m \u001b[0mpd\u001b[0m\u001b[0;34m.\u001b[0m\u001b[0mread_csv\u001b[0m\u001b[0;34m(\u001b[0m\u001b[0;34m\"ICE1_Data.csv\"\u001b[0m\u001b[0;34m)\u001b[0m\u001b[0;34m\u001b[0m\u001b[0;34m\u001b[0m\u001b[0m\n\u001b[0m\u001b[1;32m      2\u001b[0m \u001b[0;34m\u001b[0m\u001b[0m\n\u001b[1;32m      3\u001b[0m \u001b[0mICEdata\u001b[0m\u001b[0;34m\u001b[0m\u001b[0;34m\u001b[0m\u001b[0m\n",
      "\u001b[0;31mNameError\u001b[0m: name 'pd' is not defined"
     ]
    }
   ],
   "source": [
    "ICEdata = pd.read_csv(\"ICE1_Data.csv\")\n",
    "\n",
    "ICEdata"
   ]
  },
  {
   "cell_type": "code",
   "execution_count": 17,
   "id": "225663f7",
   "metadata": {},
   "outputs": [
    {
     "data": {
      "text/plain": [
       "array([[9, 0, 0, 9],\n",
       "       [3, 4, 0, 0],\n",
       "       [4, 1, 7, 3]])"
      ]
     },
     "execution_count": 17,
     "metadata": {},
     "output_type": "execute_result"
    }
   ],
   "source": [
    "m2"
   ]
  },
  {
   "cell_type": "code",
   "execution_count": null,
   "id": "7d232eee",
   "metadata": {},
   "outputs": [],
   "source": []
  }
 ],
 "metadata": {
  "kernelspec": {
   "display_name": "Python 3",
   "language": "python",
   "name": "python3"
  },
  "language_info": {
   "codemirror_mode": {
    "name": "ipython",
    "version": 3
   },
   "file_extension": ".py",
   "mimetype": "text/x-python",
   "name": "python",
   "nbconvert_exporter": "python",
   "pygments_lexer": "ipython3",
   "version": "3.8.8"
  }
 },
 "nbformat": 4,
 "nbformat_minor": 5
}
